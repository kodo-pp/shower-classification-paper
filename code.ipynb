{
 "cells": [
  {
   "cell_type": "code",
   "execution_count": 73,
   "id": "d1c059fb",
   "metadata": {},
   "outputs": [],
   "source": [
    "import torch\n",
    "import torch.nn.functional as F\n",
    "import numpy as np\n",
    "import pandas as pd\n",
    "import h5py\n",
    "import tqdm.notebook\n",
    "import sklearn.metrics\n",
    "import matplotlib.pyplot as plt"
   ]
  },
  {
   "cell_type": "code",
   "execution_count": 32,
   "id": "8f321198",
   "metadata": {},
   "outputs": [],
   "source": [
    "data = {\n",
    "    'eplus': h5py.File('data/eplus_angle_position_5deg_xy.h5'),\n",
    "    'piplus': h5py.File('data/piplus_angle_position_5deg_xy.h5'),\n",
    "    'gamma': h5py.File('data/gamma_angle_position_5deg_xy.h5'),\n",
    "}"
   ]
  },
  {
   "cell_type": "code",
   "execution_count": 45,
   "id": "cb84831e",
   "metadata": {},
   "outputs": [],
   "source": [
    "dev = torch.device('cuda')"
   ]
  },
  {
   "cell_type": "code",
   "execution_count": 58,
   "id": "58e2934f",
   "metadata": {},
   "outputs": [],
   "source": [
    "from typing import Tuple, Optional\n",
    "\n",
    "def sample_sizes(size_a: int, size_b: int, num_samples: int) -> Tuple[int, int]:\n",
    "    num_a_samples = min(\n",
    "        np.random.binomial(num_samples, size_a / (size_a + size_b)),\n",
    "        size_a,\n",
    "    )\n",
    "    num_b_samples = min(num_samples - num_a_samples, size_b)\n",
    "    assert num_a_samples <= size_a\n",
    "    assert num_b_samples <= size_b\n",
    "    return num_a_samples, num_b_samples\n",
    "\n",
    "class SamplerEpoch:\n",
    "    def __init__(\n",
    "        self,\n",
    "        num_a_indices: int,\n",
    "        num_b_indices: int,\n",
    "        minibatch_size: int,\n",
    "        id: Optional[int],\n",
    "        cursor_a: int = 0,\n",
    "        cursor_b: int = 0\n",
    "    ) -> None:\n",
    "        self.minibatch_size = minibatch_size\n",
    "        self.id = id\n",
    "        self.num_a_indices = num_a_indices\n",
    "        self.num_b_indices = num_b_indices\n",
    "        self.initial_cursor_a = cursor_a\n",
    "        self.initial_cursor_b = cursor_b\n",
    "        self.cursor_a = cursor_a\n",
    "        self.cursor_b = cursor_b\n",
    "    \n",
    "    def __iter__(self) -> 'SamplerEpoch':\n",
    "        return self\n",
    "\n",
    "    def __next__(self):\n",
    "        num_a_items_left = self.num_a_indices - self.cursor_a\n",
    "        num_b_items_left = self.num_b_indices - self.cursor_b\n",
    "        assert num_a_items_left >= 0\n",
    "        assert num_b_items_left >= 0\n",
    "        \n",
    "        if num_a_items_left == num_b_items_left == 0:\n",
    "            raise StopIteration()\n",
    "\n",
    "        num_a_items, num_b_items = sample_sizes(\n",
    "            num_a_items_left,\n",
    "            num_b_items_left,\n",
    "            self.minibatch_size,\n",
    "        )\n",
    "        \n",
    "        begin_a = self.cursor_a\n",
    "        end_a = begin_a + num_a_items\n",
    "        begin_b = self.cursor_b\n",
    "        end_b = begin_b + num_b_items\n",
    "        \n",
    "        self.cursor_a = end_a\n",
    "        self.cursor_b = end_b\n",
    "        return (begin_a, end_a), (begin_b, end_b)\n",
    "    \n",
    "    def __len__(self):\n",
    "        num_indices = self.num_a_indices + self.num_b_indices - self.initial_cursor_a - self.initial_cursor_b\n",
    "        batch = self.minibatch_size\n",
    "        return (num_indices + batch - 1) // batch\n",
    "    \n",
    "    def __repr__(self) -> str:\n",
    "        return (\n",
    "            f'SamplerEpoch(id={self.id}), '\n",
    "            f'minibatch_size={self.minibatch_size}, '\n",
    "            f'num_indices=({self.num_a_indices}, {self.num_b_indices}), '\n",
    "            f'cursor=({self.cursor_a}, {self.cursor_b}))'\n",
    "        )\n",
    "\n",
    "class Sampler:\n",
    "    def __init__(\n",
    "        self,\n",
    "        num_samples_a: int,\n",
    "        num_samples_b: int,\n",
    "        minibatch_size: int,\n",
    "        cv_split: float,\n",
    "    ) -> None:\n",
    "        num_cv_indices_a = round(num_samples_a * cv_split)\n",
    "        num_cv_indices_b = round(num_samples_b * cv_split)\n",
    "        self.cv_start_a = num_samples_a - num_cv_indices_a\n",
    "        self.cv_start_b = num_samples_b - num_cv_indices_b\n",
    "        self.num_samples_a = num_samples_a\n",
    "        self.num_samples_b = num_samples_b\n",
    "        self.minibatch_size = minibatch_size\n",
    "        self.num_epochs = 0\n",
    "    \n",
    "    def epoch(self) -> SamplerEpoch:\n",
    "        self.num_epochs += 1\n",
    "        return SamplerEpoch(\n",
    "            self.cv_start_a,\n",
    "            self.cv_start_a,\n",
    "            minibatch_size=self.minibatch_size,\n",
    "            id=self.num_epochs,\n",
    "        )\n",
    "    \n",
    "    def cv(self) -> SamplerEpoch:\n",
    "        return SamplerEpoch(\n",
    "            self.num_samples_a,\n",
    "            self.num_samples_b,\n",
    "            minibatch_size=self.minibatch_size,\n",
    "            id=None,\n",
    "            cursor_a=self.cv_start_a,\n",
    "            cursor_b=self.cv_start_b,\n",
    "        )\n",
    "\n",
    "    def __repr__(self) -> str:\n",
    "        return (\n",
    "            f'Sampler(cv_start=({self.cv_start_a}, {self.cv_start_b}), '\n",
    "            f'num_samples=({self.num_samples_a}, {self.num_samples_b}), '\n",
    "            f'minibatch_size={self.minibatch_size}, '\n",
    "            f'self.num_epochs={self.num_epochs})'\n",
    "        )"
   ]
  },
  {
   "cell_type": "code",
   "execution_count": 84,
   "id": "794b443a",
   "metadata": {},
   "outputs": [],
   "source": [
    "def flatten_layers(data_file, begin, end) -> np.ndarray:\n",
    "    layers = []\n",
    "    for i in range(3):\n",
    "        layer = data_file[f'layer_{i}']\n",
    "        feature_size = 1\n",
    "        for x in layer.shape[1:]:\n",
    "            feature_size *= x\n",
    "        layer_part = layer[begin:end]\n",
    "        layers.append(layer_part.reshape((layer_part.shape[0], feature_size)))\n",
    "    return np.hstack(layers)\n",
    "\n",
    "def prepare_input(data_a, data_b, begin_a, end_a, begin_b, end_b, device=None):\n",
    "    if device is None:\n",
    "        device = dev\n",
    "    x_a = flatten_layers(data_a, begin_a, end_a)\n",
    "    x_b = flatten_layers(data_b, begin_b, end_b)\n",
    "    x = torch.Tensor(np.vstack([x_a, x_b])).to(device)\n",
    "    y = torch.Tensor([0] * (end_a - begin_a) + [1] * (end_b - begin_b)).to(device)\n",
    "    return x, y"
   ]
  },
  {
   "cell_type": "code",
   "execution_count": 91,
   "id": "7419fbc0",
   "metadata": {},
   "outputs": [],
   "source": [
    "class ModelFcPixel(torch.nn.Module):\n",
    "    def __init__(self):\n",
    "        super().__init__()\n",
    "        self.layers = torch.nn.Sequential(\n",
    "            self.make_layer(504, 512),\n",
    "            self.make_layer(512, 1024),\n",
    "            self.make_layer(1024, 2048),\n",
    "            self.make_layer(2048, 1024),\n",
    "            self.make_layer(1024, 128),\n",
    "            torch.nn.Linear(128, 1),\n",
    "            torch.nn.Sigmoid(),\n",
    "        )\n",
    "    \n",
    "    @staticmethod\n",
    "    def make_layer(num_in, num_out):\n",
    "        return torch.nn.Sequential(\n",
    "            torch.nn.Linear(num_in, num_out),\n",
    "            torch.nn.LeakyReLU(),\n",
    "            torch.nn.Dropout(),\n",
    "            torch.nn.BatchNorm1d(num_out),\n",
    "        )\n",
    "        \n",
    "    def forward(self, x):\n",
    "        return self.layers(x)"
   ]
  },
  {
   "cell_type": "code",
   "execution_count": 108,
   "id": "aba30ab6",
   "metadata": {},
   "outputs": [],
   "source": [
    "def train_and_evaluate(\n",
    "    model,\n",
    "    alt_label,\n",
    "    num_epochs,\n",
    "    minibatch_size=128,\n",
    "    cv_split=0.1,\n",
    "):\n",
    "    data_a = data['eplus']\n",
    "    data_b = data[alt_label]\n",
    "    sampler = Sampler(\n",
    "        len(data_a['layer_0']),\n",
    "        len(data_b['layer_0']),\n",
    "        minibatch_size=minibatch_size,\n",
    "        cv_split=cv_split,\n",
    "    )\n",
    "    opt = torch.optim.Adam(model.parameters(), lr=0.0001)\n",
    "    \n",
    "    max_train_index_a = 0\n",
    "    max_train_index_b = 0\n",
    "    model.train()\n",
    "    while True:\n",
    "        epoch = sampler.epoch()\n",
    "        if epoch.id > 2:\n",
    "            break\n",
    "\n",
    "        print(f'==> Epoch {epoch.id}', flush=True)\n",
    "        for (begin_a, end_a), (begin_b, end_b) in tqdm.notebook.tqdm(epoch):\n",
    "            assert begin_a <= end_a\n",
    "            assert begin_b <= end_b\n",
    "            max_train_index_a = max([max_train_index_a, end_a-1])\n",
    "            max_train_index_b = max([max_train_index_b, end_b-1])\n",
    "            opt.zero_grad()\n",
    "            x, y = prepare_input(data_a, data_b, begin_a, end_a, begin_b, end_b)\n",
    "            y_prob = model(x).flatten()\n",
    "            loss = F.binary_cross_entropy(y_prob, y)\n",
    "            loss.backward()\n",
    "            opt.step()\n",
    "    \n",
    "    model.eval()\n",
    "\n",
    "    y = []\n",
    "    y_prob = []\n",
    "    with torch.no_grad():\n",
    "        for (begin_a, end_a), (begin_b, end_b) in tqdm.notebook.tqdm(sampler.cv()):\n",
    "            assert max_train_index_a < begin_a <= end_a\n",
    "            assert max_train_index_b < begin_b <= end_b\n",
    "            x, this_y = prepare_input(data_a, data_b, begin_a, end_a, begin_b, end_b)\n",
    "            this_y_prob = model(x).flatten().cpu()\n",
    "            y += list(this_y.cpu())\n",
    "            y_prob += list(this_y_prob)\n",
    "    \n",
    "    return model, y, y_prob"
   ]
  },
  {
   "cell_type": "code",
   "execution_count": 109,
   "id": "21735c2a",
   "metadata": {},
   "outputs": [
    {
     "name": "stdout",
     "output_type": "stream",
     "text": [
      "==> Epoch 1\n"
     ]
    },
    {
     "data": {
      "application/vnd.jupyter.widget-view+json": {
       "model_id": "770a314cbea749c48b361766faf959be",
       "version_major": 2,
       "version_minor": 0
      },
      "text/plain": [
       "  0%|          | 0/5625 [00:00<?, ?it/s]"
      ]
     },
     "metadata": {},
     "output_type": "display_data"
    },
    {
     "name": "stdout",
     "output_type": "stream",
     "text": [
      "==> Epoch 2\n"
     ]
    },
    {
     "data": {
      "application/vnd.jupyter.widget-view+json": {
       "model_id": "988a353ebb11471fa0a806867d0fdc67",
       "version_major": 2,
       "version_minor": 0
      },
      "text/plain": [
       "  0%|          | 0/5625 [00:00<?, ?it/s]"
      ]
     },
     "metadata": {},
     "output_type": "display_data"
    },
    {
     "data": {
      "application/vnd.jupyter.widget-view+json": {
       "model_id": "146bbfc664004617989721566a3fac33",
       "version_major": 2,
       "version_minor": 0
      },
      "text/plain": [
       "  0%|          | 0/704 [00:00<?, ?it/s]"
      ]
     },
     "metadata": {},
     "output_type": "display_data"
    }
   ],
   "source": [
    "models = [\n",
    "    ModelFcPixel().to(dev),\n",
    "]\n",
    "num_epochs = 2\n",
    "alt_label = 'piplus'\n",
    "\n",
    "results = {}\n",
    "for model in models:\n",
    "    _, y, y_prob = train_and_evaluate(\n",
    "        model=model,\n",
    "        alt_label=alt_label,\n",
    "        num_epochs=num_epochs,\n",
    "    )\n",
    "    results[model.__class__.__name__] = (y, y_prob)"
   ]
  },
  {
   "cell_type": "code",
   "execution_count": 111,
   "id": "e9bc26fe",
   "metadata": {
    "scrolled": true
   },
   "outputs": [
    {
     "data": {
      "image/png": "[encoded data removed]",
      "text/plain": [
       "<Figure size 432x288 with 1 Axes>"
      ]
     },
     "metadata": {
      "needs_background": "light"
     },
     "output_type": "display_data"
    }
   ],
   "source": [
    "fpr_threshold = 1/6000\n",
    "tpr_threshold = 0.9\n",
    "\n",
    "labels = []\n",
    "handles = []\n",
    "\n",
    "for name, (y, y_prob) in results.items():\n",
    "    fpr, tpr, _ = sklearn.metrics.roc_curve(y, y_prob)\n",
    "    mask = (fpr > fpr_threshold) & (tpr > tpr_threshold)\n",
    "    handles += plt.plot(tpr[mask], 1/fpr[mask])\n",
    "    labels.append(name)\n",
    "\n",
    "plt.xlabel('True positive (π⁺) rate')\n",
    "plt.ylabel('1 / False positive (π⁺) rate')\n",
    "plt.legend(handles=handles, labels=labels)\n",
    "plt.show()"
   ]
  },
  {
   "cell_type": "code",
   "execution_count": null,
   "id": "9ea94f16",
   "metadata": {},
   "outputs": [],
   "source": []
  }
 ],
 "metadata": {
  "kernelspec": {
   "display_name": "Python 3 (ipykernel)",
   "language": "python",
   "name": "python3"
  },
  "language_info": {
   "codemirror_mode": {
    "name": "ipython",
    "version": 3
   },
   "file_extension": ".py",
   "mimetype": "text/x-python",
   "name": "python",
   "nbconvert_exporter": "python",
   "pygments_lexer": "ipython3",
   "version": "3.10.4"
  }
 },
 "nbformat": 4,
 "nbformat_minor": 5
}
